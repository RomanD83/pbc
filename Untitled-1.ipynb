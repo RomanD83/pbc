{
 "cells": [
  {
   "cell_type": "code",
   "execution_count": 99,
   "metadata": {},
   "outputs": [],
   "source": [
    "import pandas as pd"
   ]
  },
  {
   "cell_type": "code",
   "execution_count": 100,
   "metadata": {},
   "outputs": [
    {
     "data": {
      "text/html": [
       "<div>\n",
       "<style scoped>\n",
       "    .dataframe tbody tr th:only-of-type {\n",
       "        vertical-align: middle;\n",
       "    }\n",
       "\n",
       "    .dataframe tbody tr th {\n",
       "        vertical-align: top;\n",
       "    }\n",
       "\n",
       "    .dataframe thead th {\n",
       "        text-align: right;\n",
       "    }\n",
       "</style>\n",
       "<table border=\"1\" class=\"dataframe\">\n",
       "  <thead>\n",
       "    <tr style=\"text-align: right;\">\n",
       "      <th></th>\n",
       "      <th>0</th>\n",
       "      <th>1</th>\n",
       "      <th>2</th>\n",
       "      <th>3</th>\n",
       "      <th>4</th>\n",
       "      <th>5</th>\n",
       "      <th>6</th>\n",
       "      <th>7</th>\n",
       "      <th>8</th>\n",
       "      <th>9</th>\n",
       "      <th>10</th>\n",
       "      <th>11</th>\n",
       "      <th>12</th>\n",
       "      <th>13</th>\n",
       "    </tr>\n",
       "  </thead>\n",
       "  <tbody>\n",
       "    <tr>\n",
       "      <th>0</th>\n",
       "      <td>64</td>\n",
       "      <td>2</td>\n",
       "      <td>2</td>\n",
       "      <td>21.48380</td>\n",
       "      <td>1</td>\n",
       "      <td>1298.8</td>\n",
       "      <td>57.0</td>\n",
       "      <td>6.3</td>\n",
       "      <td>0.0</td>\n",
       "      <td>170.3</td>\n",
       "      <td>1945</td>\n",
       "      <td>890</td>\n",
       "      <td>200</td>\n",
       "      <td>915</td>\n",
       "    </tr>\n",
       "    <tr>\n",
       "      <th>1</th>\n",
       "      <td>76</td>\n",
       "      <td>2</td>\n",
       "      <td>1</td>\n",
       "      <td>23.87631</td>\n",
       "      <td>1</td>\n",
       "      <td>1032.5</td>\n",
       "      <td>50.1</td>\n",
       "      <td>15.8</td>\n",
       "      <td>0.0</td>\n",
       "      <td>75.8</td>\n",
       "      <td>2653</td>\n",
       "      <td>451</td>\n",
       "      <td>124</td>\n",
       "      <td>727</td>\n",
       "    </tr>\n",
       "    <tr>\n",
       "      <th>2</th>\n",
       "      <td>38</td>\n",
       "      <td>2</td>\n",
       "      <td>2</td>\n",
       "      <td>20.01080</td>\n",
       "      <td>2</td>\n",
       "      <td>2372.3</td>\n",
       "      <td>83.6</td>\n",
       "      <td>19.1</td>\n",
       "      <td>14.1</td>\n",
       "      <td>257.9</td>\n",
       "      <td>6321</td>\n",
       "      <td>660</td>\n",
       "      <td>328</td>\n",
       "      <td>721</td>\n",
       "    </tr>\n",
       "    <tr>\n",
       "      <th>3</th>\n",
       "      <td>40</td>\n",
       "      <td>2</td>\n",
       "      <td>2</td>\n",
       "      <td>25.14062</td>\n",
       "      <td>3</td>\n",
       "      <td>2449.5</td>\n",
       "      <td>97.5</td>\n",
       "      <td>26.5</td>\n",
       "      <td>0.5</td>\n",
       "      <td>332.6</td>\n",
       "      <td>1061</td>\n",
       "      <td>864</td>\n",
       "      <td>153</td>\n",
       "      <td>615</td>\n",
       "    </tr>\n",
       "    <tr>\n",
       "      <th>4</th>\n",
       "      <td>72</td>\n",
       "      <td>2</td>\n",
       "      <td>1</td>\n",
       "      <td>20.98504</td>\n",
       "      <td>1</td>\n",
       "      <td>1952.1</td>\n",
       "      <td>82.6</td>\n",
       "      <td>16.2</td>\n",
       "      <td>0.0</td>\n",
       "      <td>170.8</td>\n",
       "      <td>2863</td>\n",
       "      <td>1209</td>\n",
       "      <td>92</td>\n",
       "      <td>799</td>\n",
       "    </tr>\n",
       "  </tbody>\n",
       "</table>\n",
       "</div>"
      ],
      "text/plain": [
       "   0   1   2         3   4       5     6     7     8      9     10    11   12  \\\n",
       "0  64   2   2  21.48380   1  1298.8  57.0   6.3   0.0  170.3  1945   890  200   \n",
       "1  76   2   1  23.87631   1  1032.5  50.1  15.8   0.0   75.8  2653   451  124   \n",
       "2  38   2   2  20.01080   2  2372.3  83.6  19.1  14.1  257.9  6321   660  328   \n",
       "3  40   2   2  25.14062   3  2449.5  97.5  26.5   0.5  332.6  1061   864  153   \n",
       "4  72   2   1  20.98504   1  1952.1  82.6  16.2   0.0  170.8  2863  1209   92   \n",
       "\n",
       "    13  \n",
       "0  915  \n",
       "1  727  \n",
       "2  721  \n",
       "3  615  \n",
       "4  799  "
      ]
     },
     "execution_count": 100,
     "metadata": {},
     "output_type": "execute_result"
    }
   ],
   "source": [
    "df = pd.read_csv('/home/roman/pbc/Untitled Document 1', header=None, delimiter = \"\\t\")\n",
    "df.head()"
   ]
  },
  {
   "cell_type": "code",
   "execution_count": 101,
   "metadata": {},
   "outputs": [],
   "source": [
    "df = df.rename(columns={0: 'AGE'\n",
    "                        , 1: 'SEX'\n",
    "                        , 2: 'SMOKSTAT'\n",
    "                        , 3: 'QUETELET'\n",
    "                        , 4: 'VITUSE'\n",
    "                        , 5: 'CALORIES'\n",
    "                        , 6: 'FAT',7: 'FIBER', 8: 'ALCOHOL',9: 'CHOLESTEROL', 10: 'BETADIET', 11: 'RETDIET', 12: 'BETAPLASMA', 13: 'RETPLASMA'})\n",
    "#df['SEX'] = df['SEX'].map({1: 'Male', 2: 'Female'})\n",
    "#df['SMOKSTAT'] = df['SMOKSTAT'].map({1: 'Never', 2: 'Former', 3: 'Current_Smoker'})\n",
    "#df['VITUSE'] = df['VITUSE'].map({1: 'Yes,fairly often', 2: 'Yes,not often', 3: 'No'})"
   ]
  },
  {
   "cell_type": "code",
   "execution_count": 102,
   "metadata": {},
   "outputs": [
    {
     "data": {
      "text/html": [
       "<div>\n",
       "<style scoped>\n",
       "    .dataframe tbody tr th:only-of-type {\n",
       "        vertical-align: middle;\n",
       "    }\n",
       "\n",
       "    .dataframe tbody tr th {\n",
       "        vertical-align: top;\n",
       "    }\n",
       "\n",
       "    .dataframe thead th {\n",
       "        text-align: right;\n",
       "    }\n",
       "</style>\n",
       "<table border=\"1\" class=\"dataframe\">\n",
       "  <thead>\n",
       "    <tr style=\"text-align: right;\">\n",
       "      <th></th>\n",
       "      <th>AGE</th>\n",
       "      <th>SEX</th>\n",
       "      <th>SMOKSTAT</th>\n",
       "      <th>QUETELET</th>\n",
       "      <th>VITUSE</th>\n",
       "      <th>CALORIES</th>\n",
       "      <th>FAT</th>\n",
       "      <th>FIBER</th>\n",
       "      <th>ALCOHOL</th>\n",
       "      <th>CHOLESTEROL</th>\n",
       "      <th>BETADIET</th>\n",
       "      <th>RETDIET</th>\n",
       "      <th>BETAPLASMA</th>\n",
       "      <th>RETPLASMA</th>\n",
       "    </tr>\n",
       "  </thead>\n",
       "  <tbody>\n",
       "    <tr>\n",
       "      <th>0</th>\n",
       "      <td>64</td>\n",
       "      <td>2</td>\n",
       "      <td>2</td>\n",
       "      <td>21.48380</td>\n",
       "      <td>1</td>\n",
       "      <td>1298.8</td>\n",
       "      <td>57.0</td>\n",
       "      <td>6.3</td>\n",
       "      <td>0.0</td>\n",
       "      <td>170.3</td>\n",
       "      <td>1945</td>\n",
       "      <td>890</td>\n",
       "      <td>200</td>\n",
       "      <td>915</td>\n",
       "    </tr>\n",
       "    <tr>\n",
       "      <th>1</th>\n",
       "      <td>76</td>\n",
       "      <td>2</td>\n",
       "      <td>1</td>\n",
       "      <td>23.87631</td>\n",
       "      <td>1</td>\n",
       "      <td>1032.5</td>\n",
       "      <td>50.1</td>\n",
       "      <td>15.8</td>\n",
       "      <td>0.0</td>\n",
       "      <td>75.8</td>\n",
       "      <td>2653</td>\n",
       "      <td>451</td>\n",
       "      <td>124</td>\n",
       "      <td>727</td>\n",
       "    </tr>\n",
       "    <tr>\n",
       "      <th>2</th>\n",
       "      <td>38</td>\n",
       "      <td>2</td>\n",
       "      <td>2</td>\n",
       "      <td>20.01080</td>\n",
       "      <td>2</td>\n",
       "      <td>2372.3</td>\n",
       "      <td>83.6</td>\n",
       "      <td>19.1</td>\n",
       "      <td>14.1</td>\n",
       "      <td>257.9</td>\n",
       "      <td>6321</td>\n",
       "      <td>660</td>\n",
       "      <td>328</td>\n",
       "      <td>721</td>\n",
       "    </tr>\n",
       "  </tbody>\n",
       "</table>\n",
       "</div>"
      ],
      "text/plain": [
       "   AGE  SEX  SMOKSTAT  QUETELET  VITUSE  CALORIES   FAT  FIBER  ALCOHOL  \\\n",
       "0   64    2         2  21.48380       1    1298.8  57.0    6.3      0.0   \n",
       "1   76    2         1  23.87631       1    1032.5  50.1   15.8      0.0   \n",
       "2   38    2         2  20.01080       2    2372.3  83.6   19.1     14.1   \n",
       "\n",
       "   CHOLESTEROL  BETADIET  RETDIET  BETAPLASMA  RETPLASMA  \n",
       "0        170.3      1945      890         200        915  \n",
       "1         75.8      2653      451         124        727  \n",
       "2        257.9      6321      660         328        721  "
      ]
     },
     "execution_count": 102,
     "metadata": {},
     "output_type": "execute_result"
    }
   ],
   "source": [
    "df.head(3)"
   ]
  },
  {
   "cell_type": "code",
   "execution_count": 103,
   "metadata": {},
   "outputs": [],
   "source": [
    "from sklearn.model_selection import train_test_split"
   ]
  },
  {
   "cell_type": "code",
   "execution_count": 104,
   "metadata": {},
   "outputs": [],
   "source": [
    "train, test = train_test_split(df, train_size = 0.6, random_state=42)"
   ]
  },
  {
   "cell_type": "code",
   "execution_count": 105,
   "metadata": {},
   "outputs": [
    {
     "data": {
      "text/plain": [
       "0.6"
      ]
     },
     "execution_count": 105,
     "metadata": {},
     "output_type": "execute_result"
    }
   ],
   "source": [
    "len(train) / len(df)"
   ]
  },
  {
   "cell_type": "code",
   "execution_count": 106,
   "metadata": {},
   "outputs": [],
   "source": [
    "val, test = train_test_split(test, train_size = 0.5, random_state=42)"
   ]
  },
  {
   "cell_type": "code",
   "execution_count": 107,
   "metadata": {},
   "outputs": [
    {
     "data": {
      "text/html": [
       "<div>\n",
       "<style scoped>\n",
       "    .dataframe tbody tr th:only-of-type {\n",
       "        vertical-align: middle;\n",
       "    }\n",
       "\n",
       "    .dataframe tbody tr th {\n",
       "        vertical-align: top;\n",
       "    }\n",
       "\n",
       "    .dataframe thead th {\n",
       "        text-align: right;\n",
       "    }\n",
       "</style>\n",
       "<table border=\"1\" class=\"dataframe\">\n",
       "  <thead>\n",
       "    <tr style=\"text-align: right;\">\n",
       "      <th></th>\n",
       "      <th>AGE</th>\n",
       "      <th>SEX</th>\n",
       "      <th>SMOKSTAT</th>\n",
       "      <th>QUETELET</th>\n",
       "      <th>VITUSE</th>\n",
       "      <th>CALORIES</th>\n",
       "      <th>FAT</th>\n",
       "      <th>FIBER</th>\n",
       "      <th>ALCOHOL</th>\n",
       "      <th>CHOLESTEROL</th>\n",
       "      <th>BETADIET</th>\n",
       "      <th>RETDIET</th>\n",
       "      <th>BETAPLASMA</th>\n",
       "      <th>RETPLASMA</th>\n",
       "    </tr>\n",
       "  </thead>\n",
       "  <tbody>\n",
       "    <tr>\n",
       "      <th>203</th>\n",
       "      <td>33</td>\n",
       "      <td>2</td>\n",
       "      <td>1</td>\n",
       "      <td>23.93777</td>\n",
       "      <td>2</td>\n",
       "      <td>1366.8</td>\n",
       "      <td>55.9</td>\n",
       "      <td>6.2</td>\n",
       "      <td>0.0</td>\n",
       "      <td>196.0</td>\n",
       "      <td>1151</td>\n",
       "      <td>498</td>\n",
       "      <td>51</td>\n",
       "      <td>602</td>\n",
       "    </tr>\n",
       "    <tr>\n",
       "      <th>165</th>\n",
       "      <td>63</td>\n",
       "      <td>2</td>\n",
       "      <td>1</td>\n",
       "      <td>23.92168</td>\n",
       "      <td>1</td>\n",
       "      <td>1282.3</td>\n",
       "      <td>26.4</td>\n",
       "      <td>13.6</td>\n",
       "      <td>0.1</td>\n",
       "      <td>100.6</td>\n",
       "      <td>3753</td>\n",
       "      <td>649</td>\n",
       "      <td>296</td>\n",
       "      <td>701</td>\n",
       "    </tr>\n",
       "    <tr>\n",
       "      <th>247</th>\n",
       "      <td>29</td>\n",
       "      <td>2</td>\n",
       "      <td>1</td>\n",
       "      <td>18.60030</td>\n",
       "      <td>2</td>\n",
       "      <td>1041.6</td>\n",
       "      <td>45.4</td>\n",
       "      <td>6.0</td>\n",
       "      <td>3.0</td>\n",
       "      <td>139.5</td>\n",
       "      <td>675</td>\n",
       "      <td>403</td>\n",
       "      <td>129</td>\n",
       "      <td>820</td>\n",
       "    </tr>\n",
       "    <tr>\n",
       "      <th>125</th>\n",
       "      <td>43</td>\n",
       "      <td>2</td>\n",
       "      <td>1</td>\n",
       "      <td>20.29700</td>\n",
       "      <td>3</td>\n",
       "      <td>2075.9</td>\n",
       "      <td>96.5</td>\n",
       "      <td>17.3</td>\n",
       "      <td>7.0</td>\n",
       "      <td>271.8</td>\n",
       "      <td>3318</td>\n",
       "      <td>651</td>\n",
       "      <td>427</td>\n",
       "      <td>572</td>\n",
       "    </tr>\n",
       "    <tr>\n",
       "      <th>177</th>\n",
       "      <td>48</td>\n",
       "      <td>2</td>\n",
       "      <td>2</td>\n",
       "      <td>22.53187</td>\n",
       "      <td>1</td>\n",
       "      <td>1242.1</td>\n",
       "      <td>37.5</td>\n",
       "      <td>13.3</td>\n",
       "      <td>1.0</td>\n",
       "      <td>148.4</td>\n",
       "      <td>1488</td>\n",
       "      <td>706</td>\n",
       "      <td>800</td>\n",
       "      <td>532</td>\n",
       "    </tr>\n",
       "  </tbody>\n",
       "</table>\n",
       "</div>"
      ],
      "text/plain": [
       "     AGE  SEX  SMOKSTAT  QUETELET  VITUSE  CALORIES   FAT  FIBER  ALCOHOL  \\\n",
       "203   33    2         1  23.93777       2    1366.8  55.9    6.2      0.0   \n",
       "165   63    2         1  23.92168       1    1282.3  26.4   13.6      0.1   \n",
       "247   29    2         1  18.60030       2    1041.6  45.4    6.0      3.0   \n",
       "125   43    2         1  20.29700       3    2075.9  96.5   17.3      7.0   \n",
       "177   48    2         2  22.53187       1    1242.1  37.5   13.3      1.0   \n",
       "\n",
       "     CHOLESTEROL  BETADIET  RETDIET  BETAPLASMA  RETPLASMA  \n",
       "203        196.0      1151      498          51        602  \n",
       "165        100.6      3753      649         296        701  \n",
       "247        139.5       675      403         129        820  \n",
       "125        271.8      3318      651         427        572  \n",
       "177        148.4      1488      706         800        532  "
      ]
     },
     "execution_count": 107,
     "metadata": {},
     "output_type": "execute_result"
    }
   ],
   "source": [
    "train.head()"
   ]
  },
  {
   "cell_type": "code",
   "execution_count": 108,
   "metadata": {},
   "outputs": [
    {
     "data": {
      "text/plain": [
       "Index(['AGE', 'SEX', 'SMOKSTAT', 'QUETELET', 'VITUSE', 'CALORIES', 'FAT',\n",
       "       'FIBER', 'ALCOHOL', 'CHOLESTEROL', 'BETADIET', 'RETDIET', 'BETAPLASMA',\n",
       "       'RETPLASMA'],\n",
       "      dtype='object')"
      ]
     },
     "execution_count": 108,
     "metadata": {},
     "output_type": "execute_result"
    }
   ],
   "source": [
    "train.columns"
   ]
  },
  {
   "cell_type": "code",
   "execution_count": 109,
   "metadata": {},
   "outputs": [],
   "source": [
    "X = ['AGE', 'SEX', 'CALORIES']\n",
    "cat_features = ['SEX']\n",
    "y = ['BETAPLASMA']\n",
    "r = ['RETPLASMA']"
   ]
  },
  {
   "cell_type": "code",
   "execution_count": 110,
   "metadata": {},
   "outputs": [],
   "source": [
    "from catboost import CatBoostRegressor"
   ]
  },
  {
   "cell_type": "code",
   "execution_count": 111,
   "metadata": {},
   "outputs": [],
   "source": [
    "model = CatBoostRegressor(cat_features=cat_features, eval_metric=\"MAPE\", verbose=100)"
   ]
  },
  {
   "cell_type": "code",
   "execution_count": 112,
   "metadata": {},
   "outputs": [
    {
     "name": "stdout",
     "output_type": "stream",
     "text": [
      "Learning rate set to 0.039201\n",
      "0:\tlearn: 0.9333199\ttest: 1.1998665\tbest: 1.1998665 (0)\ttotal: 1.45ms\tremaining: 1.45s\n",
      "100:\tlearn: 0.7689358\ttest: 1.0894771\tbest: 1.0889219 (97)\ttotal: 36.5ms\tremaining: 325ms\n",
      "200:\tlearn: 0.6471790\ttest: 1.0715612\tbest: 1.0497538 (155)\ttotal: 70.5ms\tremaining: 280ms\n",
      "300:\tlearn: 0.5770085\ttest: 1.0831213\tbest: 1.0497538 (155)\ttotal: 102ms\tremaining: 238ms\n",
      "400:\tlearn: 0.5310455\ttest: 1.1230093\tbest: 1.0497538 (155)\ttotal: 136ms\tremaining: 203ms\n",
      "500:\tlearn: 0.4857815\ttest: 1.1585872\tbest: 1.0497538 (155)\ttotal: 169ms\tremaining: 168ms\n",
      "600:\tlearn: 0.4431355\ttest: 1.1778026\tbest: 1.0497538 (155)\ttotal: 207ms\tremaining: 137ms\n",
      "700:\tlearn: 0.4042398\ttest: 1.1850420\tbest: 1.0497538 (155)\ttotal: 245ms\tremaining: 105ms\n",
      "800:\tlearn: 0.3650441\ttest: 1.2001846\tbest: 1.0497538 (155)\ttotal: 286ms\tremaining: 71ms\n",
      "900:\tlearn: 0.3301728\ttest: 1.2199497\tbest: 1.0497538 (155)\ttotal: 321ms\tremaining: 35.3ms\n",
      "999:\tlearn: 0.3033908\ttest: 1.2197585\tbest: 1.0497538 (155)\ttotal: 355ms\tremaining: 0us\n",
      "\n",
      "bestTest = 1.049753752\n",
      "bestIteration = 155\n",
      "\n",
      "Shrink model to first 156 iterations.\n"
     ]
    },
    {
     "data": {
      "text/plain": [
       "<catboost.core.CatBoostRegressor at 0x7f59d3f5de10>"
      ]
     },
     "execution_count": 112,
     "metadata": {},
     "output_type": "execute_result"
    }
   ],
   "source": [
    "model.fit(train[X], train[y], eval_set=(val[X], val[y]))"
   ]
  },
  {
   "cell_type": "code",
   "execution_count": 113,
   "metadata": {},
   "outputs": [
    {
     "data": {
      "text/plain": [
       "array([226.91936649, 195.61372133, 157.10291795, 233.15977596,\n",
       "       124.63908287, 233.30465302, 208.83159552, 199.96494184,\n",
       "       114.35740392, 211.43646729, 171.71738063, 141.50516741,\n",
       "       220.35531538, 192.90575859, 141.41218485, 297.60010274,\n",
       "       197.54516364, 253.74546707, 177.08865276, 216.73850119,\n",
       "       223.49780156, 170.34445564, 139.92646421, 148.19837941,\n",
       "       215.66470178, 187.65152995, 194.06547812, 213.37123622,\n",
       "       189.85643077, 217.58546263, 284.41197394, 184.94266481,\n",
       "       132.81202121, 178.7167848 , 195.61372133, 208.76992796,\n",
       "       214.71496582, 172.05011789, 137.94205359, 199.83240407,\n",
       "       223.23003521, 193.21935838, 153.5608058 , 221.89073542,\n",
       "       244.59643536, 172.74419273, 168.20631845, 165.90524851,\n",
       "       237.91190828, 200.26856533, 162.12721934, 220.29757706,\n",
       "       191.2712479 , 208.72485786, 102.19872358, 169.10328777,\n",
       "       243.69513267, 133.72526811, 371.97477097, 141.97358786,\n",
       "       287.87262557, 178.07832726, 209.03402501])"
      ]
     },
     "execution_count": 113,
     "metadata": {},
     "output_type": "execute_result"
    }
   ],
   "source": [
    "model.predict(test[X])"
   ]
  },
  {
   "cell_type": "code",
   "execution_count": 114,
   "metadata": {},
   "outputs": [],
   "source": [
    "test['bet_pred'] = model.predict(test[X])"
   ]
  },
  {
   "cell_type": "code",
   "execution_count": null,
   "metadata": {},
   "outputs": [],
   "source": []
  },
  {
   "cell_type": "code",
   "execution_count": 115,
   "metadata": {},
   "outputs": [],
   "source": [
    "from sklearn.metrics import mean_absolute_error, mean_absolute_percentage_error"
   ]
  },
  {
   "cell_type": "code",
   "execution_count": 116,
   "metadata": {},
   "outputs": [
    {
     "data": {
      "text/html": [
       "<div>\n",
       "<style scoped>\n",
       "    .dataframe tbody tr th:only-of-type {\n",
       "        vertical-align: middle;\n",
       "    }\n",
       "\n",
       "    .dataframe tbody tr th {\n",
       "        vertical-align: top;\n",
       "    }\n",
       "\n",
       "    .dataframe thead th {\n",
       "        text-align: right;\n",
       "    }\n",
       "</style>\n",
       "<table border=\"1\" class=\"dataframe\">\n",
       "  <thead>\n",
       "    <tr style=\"text-align: right;\">\n",
       "      <th></th>\n",
       "      <th>AGE</th>\n",
       "      <th>SEX</th>\n",
       "      <th>SMOKSTAT</th>\n",
       "      <th>QUETELET</th>\n",
       "      <th>VITUSE</th>\n",
       "      <th>CALORIES</th>\n",
       "      <th>FAT</th>\n",
       "      <th>FIBER</th>\n",
       "      <th>ALCOHOL</th>\n",
       "      <th>CHOLESTEROL</th>\n",
       "      <th>BETADIET</th>\n",
       "      <th>RETDIET</th>\n",
       "      <th>BETAPLASMA</th>\n",
       "      <th>RETPLASMA</th>\n",
       "    </tr>\n",
       "  </thead>\n",
       "  <tbody>\n",
       "    <tr>\n",
       "      <th>203</th>\n",
       "      <td>33</td>\n",
       "      <td>2</td>\n",
       "      <td>1</td>\n",
       "      <td>23.93777</td>\n",
       "      <td>2</td>\n",
       "      <td>1366.8</td>\n",
       "      <td>55.9</td>\n",
       "      <td>6.2</td>\n",
       "      <td>0.0</td>\n",
       "      <td>196.0</td>\n",
       "      <td>1151</td>\n",
       "      <td>498</td>\n",
       "      <td>51</td>\n",
       "      <td>602</td>\n",
       "    </tr>\n",
       "    <tr>\n",
       "      <th>165</th>\n",
       "      <td>63</td>\n",
       "      <td>2</td>\n",
       "      <td>1</td>\n",
       "      <td>23.92168</td>\n",
       "      <td>1</td>\n",
       "      <td>1282.3</td>\n",
       "      <td>26.4</td>\n",
       "      <td>13.6</td>\n",
       "      <td>0.1</td>\n",
       "      <td>100.6</td>\n",
       "      <td>3753</td>\n",
       "      <td>649</td>\n",
       "      <td>296</td>\n",
       "      <td>701</td>\n",
       "    </tr>\n",
       "    <tr>\n",
       "      <th>247</th>\n",
       "      <td>29</td>\n",
       "      <td>2</td>\n",
       "      <td>1</td>\n",
       "      <td>18.60030</td>\n",
       "      <td>2</td>\n",
       "      <td>1041.6</td>\n",
       "      <td>45.4</td>\n",
       "      <td>6.0</td>\n",
       "      <td>3.0</td>\n",
       "      <td>139.5</td>\n",
       "      <td>675</td>\n",
       "      <td>403</td>\n",
       "      <td>129</td>\n",
       "      <td>820</td>\n",
       "    </tr>\n",
       "  </tbody>\n",
       "</table>\n",
       "</div>"
      ],
      "text/plain": [
       "     AGE  SEX  SMOKSTAT  QUETELET  VITUSE  CALORIES   FAT  FIBER  ALCOHOL  \\\n",
       "203   33    2         1  23.93777       2    1366.8  55.9    6.2      0.0   \n",
       "165   63    2         1  23.92168       1    1282.3  26.4   13.6      0.1   \n",
       "247   29    2         1  18.60030       2    1041.6  45.4    6.0      3.0   \n",
       "\n",
       "     CHOLESTEROL  BETADIET  RETDIET  BETAPLASMA  RETPLASMA  \n",
       "203        196.0      1151      498          51        602  \n",
       "165        100.6      3753      649         296        701  \n",
       "247        139.5       675      403         129        820  "
      ]
     },
     "execution_count": 116,
     "metadata": {},
     "output_type": "execute_result"
    }
   ],
   "source": [
    "train.head(3)"
   ]
  },
  {
   "cell_type": "code",
   "execution_count": 117,
   "metadata": {},
   "outputs": [
    {
     "data": {
      "text/plain": [
       "Index(['AGE', 'SEX', 'SMOKSTAT', 'QUETELET', 'VITUSE', 'CALORIES', 'FAT',\n",
       "       'FIBER', 'ALCOHOL', 'CHOLESTEROL', 'BETADIET', 'RETDIET', 'BETAPLASMA',\n",
       "       'RETPLASMA'],\n",
       "      dtype='object')"
      ]
     },
     "execution_count": 117,
     "metadata": {},
     "output_type": "execute_result"
    }
   ],
   "source": [
    "train.columns"
   ]
  },
  {
   "cell_type": "code",
   "execution_count": 118,
   "metadata": {},
   "outputs": [],
   "source": [
    "X = ['AGE', 'SEX', 'SMOKSTAT', 'QUETELET', 'VITUSE', 'CALORIES', 'FAT',\n",
    "       'FIBER', 'ALCOHOL', 'CHOLESTEROL', 'BETADIET', 'RETDIET', 'BETAPLASMA',\n",
    "       'RETPLASMA']\n",
    "cat_features = ['SEX', 'SMOKSTAT', 'VITUSE']\n",
    "y = ['RETPLASMA']"
   ]
  },
  {
   "cell_type": "code",
   "execution_count": 119,
   "metadata": {},
   "outputs": [
    {
     "data": {
      "text/plain": [
       "AGE              int64\n",
       "SEX              int64\n",
       "SMOKSTAT         int64\n",
       "QUETELET       float64\n",
       "VITUSE           int64\n",
       "CALORIES       float64\n",
       "FAT            float64\n",
       "FIBER          float64\n",
       "ALCOHOL        float64\n",
       "CHOLESTEROL    float64\n",
       "BETADIET         int64\n",
       "RETDIET          int64\n",
       "BETAPLASMA       int64\n",
       "RETPLASMA        int64\n",
       "dtype: object"
      ]
     },
     "execution_count": 119,
     "metadata": {},
     "output_type": "execute_result"
    }
   ],
   "source": [
    "train.dtypes"
   ]
  },
  {
   "cell_type": "code",
   "execution_count": 120,
   "metadata": {},
   "outputs": [],
   "source": [
    "parameters = {'cat_features': cat_features, 'eval_metric': 'MAPE', 'verbose': 100}"
   ]
  },
  {
   "cell_type": "code",
   "execution_count": 121,
   "metadata": {},
   "outputs": [],
   "source": [
    "model = CatBoostRegressor(**parameters)"
   ]
  },
  {
   "cell_type": "code",
   "execution_count": 122,
   "metadata": {},
   "outputs": [
    {
     "name": "stdout",
     "output_type": "stream",
     "text": [
      "Learning rate set to 0.039201\n",
      "0:\tlearn: 0.2759354\ttest: 0.3004976\tbest: 0.3004976 (0)\ttotal: 10.9ms\tremaining: 10.8s\n",
      "100:\tlearn: 0.0407160\ttest: 0.0656473\tbest: 0.0656473 (100)\ttotal: 106ms\tremaining: 942ms\n",
      "200:\tlearn: 0.0180074\ttest: 0.0421899\tbest: 0.0421899 (200)\ttotal: 236ms\tremaining: 939ms\n",
      "300:\tlearn: 0.0101959\ttest: 0.0330467\tbest: 0.0330467 (300)\ttotal: 326ms\tremaining: 757ms\n",
      "400:\tlearn: 0.0074077\ttest: 0.0309639\tbest: 0.0309639 (400)\ttotal: 417ms\tremaining: 623ms\n",
      "500:\tlearn: 0.0055138\ttest: 0.0302533\tbest: 0.0302533 (500)\ttotal: 510ms\tremaining: 508ms\n",
      "600:\tlearn: 0.0040670\ttest: 0.0301073\tbest: 0.0301044 (598)\ttotal: 602ms\tremaining: 400ms\n",
      "700:\tlearn: 0.0031044\ttest: 0.0300664\tbest: 0.0300530 (641)\ttotal: 695ms\tremaining: 296ms\n",
      "800:\tlearn: 0.0024740\ttest: 0.0301121\tbest: 0.0300530 (641)\ttotal: 787ms\tremaining: 196ms\n",
      "900:\tlearn: 0.0019757\ttest: 0.0301416\tbest: 0.0300530 (641)\ttotal: 880ms\tremaining: 96.7ms\n",
      "999:\tlearn: 0.0015773\ttest: 0.0301068\tbest: 0.0300530 (641)\ttotal: 969ms\tremaining: 0us\n",
      "\n",
      "bestTest = 0.03005296287\n",
      "bestIteration = 641\n",
      "\n",
      "Shrink model to first 642 iterations.\n"
     ]
    },
    {
     "data": {
      "text/plain": [
       "<catboost.core.CatBoostRegressor at 0x7f59a5469e70>"
      ]
     },
     "execution_count": 122,
     "metadata": {},
     "output_type": "execute_result"
    }
   ],
   "source": [
    "model.fit(train[X], train[y], eval_set=(val[X], val[y]))"
   ]
  },
  {
   "cell_type": "code",
   "execution_count": null,
   "metadata": {},
   "outputs": [],
   "source": []
  }
 ],
 "metadata": {
  "kernelspec": {
   "display_name": "Python 3",
   "language": "python",
   "name": "python3"
  },
  "language_info": {
   "codemirror_mode": {
    "name": "ipython",
    "version": 3
   },
   "file_extension": ".py",
   "mimetype": "text/x-python",
   "name": "python",
   "nbconvert_exporter": "python",
   "pygments_lexer": "ipython3",
   "version": "3.10.6"
  },
  "orig_nbformat": 4
 },
 "nbformat": 4,
 "nbformat_minor": 2
}
